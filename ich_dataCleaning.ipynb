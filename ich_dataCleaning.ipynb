{
 "cells": [
  {
   "cell_type": "code",
   "execution_count": null,
   "metadata": {},
   "outputs": [],
   "source": [
    "#packages setup\n",
    "import pandas as pd\n",
    "import numpy as np\n",
    "import csv"
   ]
  },
  {
   "cell_type": "code",
   "execution_count": null,
   "metadata": {},
   "outputs": [],
   "source": [
    "#working datasets setup\n",
    "path_elements = r'..\\final\\elements.csv'\n",
    "elements = pd.read_csv(path_elements,sep=',',header=0) #identify by elements, comes with country and keywords\n",
    "path_list = r'..\\final\\ElementsList_EN.csv'\n",
    "elementList = pd.read_csv(path_list, sep=',', header=0)#identify by country, comes with descriptions, more entries\n",
    "\n",
    "##in common variables: year, list"
   ]
  },
  {
   "cell_type": "code",
   "execution_count": null,
   "metadata": {},
   "outputs": [],
   "source": [
    "#first round data cleaning\n",
    "## elementList dataset cleaning\n",
    "elementList.drop(elementList.columns[[2,5]],1, inplace=True) #trim columns\n",
    "\n",
    "elementList.rename(columns={'Public ref. number':'id',\n",
    "'States (EN)' : 'states',\n",
    "'Region. group (EN)':'region',\n",
    "'Year of inscription':'year',\n",
    "'Type of candidature' : 'list', 'National or Multinational': 'multinational',\n",
    "'Title (EN)' : 'title',\n",
    "'Short description (EN)':'description'}, inplace=True) #rename columns\n",
    "elementList.drop_duplicates(['id'], inplace=True) #remove deplicated rows\n",
    "elementList.to_csv('elementListCleaned.csv',index = False)"
   ]
  },
  {
   "cell_type": "code",
   "execution_count": null,
   "metadata": {},
   "outputs": [],
   "source": [
    "## elements dataset cleaning\n",
    "elements.head()\n",
    "elements[['temp', 'id']] = elements['id'].str.split('_',1,expand=True)\n",
    "elements.drop('temp',1, inplace=True)\n",
    "elements.to_csv('elementsCleaned.csv',index=False)"
   ]
  },
  {
   "cell_type": "code",
   "execution_count": null,
   "metadata": {},
   "outputs": [],
   "source": [
    "#second round data cleaning set up\n",
    "path_list_cleaned = r'..\\final\\elementListCleaned.csv'\n",
    "elementListCleaned=pd.read_csv(path_list_cleaned)\n",
    "path_elements_cleaned = r'..\\final\\elementsCleaned.csv'\n",
    "elementsCleaned = pd.read_csv(path_elements_cleaned)"
   ]
  },
  {
   "cell_type": "code",
   "execution_count": null,
   "metadata": {},
   "outputs": [],
   "source": [
    "##split countries from elementListCleaned and duplicate the rows, to specify multi-national ICHs\n",
    "elements_data = elementListCleaned\n",
    "elements_data =  elements_data.assign(country =  elements_data['states'].str.split(';')).explode('country').reset_index(drop=True)\n",
    "elements_data.drop('states',1,inplace=True) #remove un-necessary col\n",
    "##reorder cols to improve readibility\n",
    "elements_data =  elements_data[['id','country','title','region','year','list','multinational','description']]"
   ]
  },
  {
   "cell_type": "code",
   "execution_count": null,
   "metadata": {},
   "outputs": [],
   "source": [
    "##join keywords from elementsClean to elementListCleaned\n",
    "final_element_data = pd.merge(elements_data,elementsCleaned, on='id',how='left')\n",
    "final_element_data.drop(final_element_data.columns[[8,9,10,12]],1,inplace=True)"
   ]
  },
  {
   "cell_type": "code",
   "execution_count": null,
   "metadata": {},
   "outputs": [],
   "source": [
    "final_element_data.head()"
   ]
  },
  {
   "cell_type": "code",
   "execution_count": null,
   "metadata": {},
   "outputs": [],
   "source": [
    "final_element_data.rename(columns={'year_x':'year', 'list_x':'list'}, inplace=True) #rename col to match the project format\n",
    "final_element_data.to_csv('ICH_element_data.csv',index=False)"
   ]
  }
 ],
 "metadata": {
  "interpreter": {
   "hash": "ccab5d2bc56bddf8a51e86528db580c320149246205659d9d087e57054cd191c"
  },
  "kernelspec": {
   "display_name": "Python 3.10.0 64-bit",
   "language": "python",
   "name": "python3"
  },
  "language_info": {
   "codemirror_mode": {
    "name": "ipython",
    "version": 3
   },
   "file_extension": ".py",
   "mimetype": "text/x-python",
   "name": "python",
   "nbconvert_exporter": "python",
   "pygments_lexer": "ipython3",
   "version": "3.10.0"
  },
  "orig_nbformat": 4
 },
 "nbformat": 4,
 "nbformat_minor": 2
}
